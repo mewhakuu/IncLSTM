{
 "cells": [
  {
   "cell_type": "markdown",
   "metadata": {
    "pycharm": {
     "name": "#%% md\n"
    }
   },
   "source": []
  },
  {
   "cell_type": "code",
   "execution_count": 1,
   "metadata": {
    "pycharm": {
     "name": "#%%\n"
    }
   },
   "outputs": [
    {
     "name": "stderr",
     "output_type": "stream",
     "text": [
      "D:\\adconda\\envs\\tensorflow37\\lib\\site-packages\\tensorflow\\python\\framework\\dtypes.py:516: FutureWarning: Passing (type, 1) or '1type' as a synonym of type is deprecated; in a future version of numpy, it will be understood as (type, (1,)) / '(1,)type'.\n",
      "  _np_qint8 = np.dtype([(\"qint8\", np.int8, 1)])\n",
      "D:\\adconda\\envs\\tensorflow37\\lib\\site-packages\\tensorflow\\python\\framework\\dtypes.py:517: FutureWarning: Passing (type, 1) or '1type' as a synonym of type is deprecated; in a future version of numpy, it will be understood as (type, (1,)) / '(1,)type'.\n",
      "  _np_quint8 = np.dtype([(\"quint8\", np.uint8, 1)])\n",
      "D:\\adconda\\envs\\tensorflow37\\lib\\site-packages\\tensorflow\\python\\framework\\dtypes.py:518: FutureWarning: Passing (type, 1) or '1type' as a synonym of type is deprecated; in a future version of numpy, it will be understood as (type, (1,)) / '(1,)type'.\n",
      "  _np_qint16 = np.dtype([(\"qint16\", np.int16, 1)])\n",
      "D:\\adconda\\envs\\tensorflow37\\lib\\site-packages\\tensorflow\\python\\framework\\dtypes.py:519: FutureWarning: Passing (type, 1) or '1type' as a synonym of type is deprecated; in a future version of numpy, it will be understood as (type, (1,)) / '(1,)type'.\n",
      "  _np_quint16 = np.dtype([(\"quint16\", np.uint16, 1)])\n",
      "D:\\adconda\\envs\\tensorflow37\\lib\\site-packages\\tensorflow\\python\\framework\\dtypes.py:520: FutureWarning: Passing (type, 1) or '1type' as a synonym of type is deprecated; in a future version of numpy, it will be understood as (type, (1,)) / '(1,)type'.\n",
      "  _np_qint32 = np.dtype([(\"qint32\", np.int32, 1)])\n",
      "D:\\adconda\\envs\\tensorflow37\\lib\\site-packages\\tensorflow\\python\\framework\\dtypes.py:525: FutureWarning: Passing (type, 1) or '1type' as a synonym of type is deprecated; in a future version of numpy, it will be understood as (type, (1,)) / '(1,)type'.\n",
      "  np_resource = np.dtype([(\"resource\", np.ubyte, 1)])\n",
      "D:\\adconda\\envs\\tensorflow37\\lib\\site-packages\\tensorboard\\compat\\tensorflow_stub\\dtypes.py:541: FutureWarning: Passing (type, 1) or '1type' as a synonym of type is deprecated; in a future version of numpy, it will be understood as (type, (1,)) / '(1,)type'.\n",
      "  _np_qint8 = np.dtype([(\"qint8\", np.int8, 1)])\n",
      "D:\\adconda\\envs\\tensorflow37\\lib\\site-packages\\tensorboard\\compat\\tensorflow_stub\\dtypes.py:542: FutureWarning: Passing (type, 1) or '1type' as a synonym of type is deprecated; in a future version of numpy, it will be understood as (type, (1,)) / '(1,)type'.\n",
      "  _np_quint8 = np.dtype([(\"quint8\", np.uint8, 1)])\n",
      "D:\\adconda\\envs\\tensorflow37\\lib\\site-packages\\tensorboard\\compat\\tensorflow_stub\\dtypes.py:543: FutureWarning: Passing (type, 1) or '1type' as a synonym of type is deprecated; in a future version of numpy, it will be understood as (type, (1,)) / '(1,)type'.\n",
      "  _np_qint16 = np.dtype([(\"qint16\", np.int16, 1)])\n",
      "D:\\adconda\\envs\\tensorflow37\\lib\\site-packages\\tensorboard\\compat\\tensorflow_stub\\dtypes.py:544: FutureWarning: Passing (type, 1) or '1type' as a synonym of type is deprecated; in a future version of numpy, it will be understood as (type, (1,)) / '(1,)type'.\n",
      "  _np_quint16 = np.dtype([(\"quint16\", np.uint16, 1)])\n",
      "D:\\adconda\\envs\\tensorflow37\\lib\\site-packages\\tensorboard\\compat\\tensorflow_stub\\dtypes.py:545: FutureWarning: Passing (type, 1) or '1type' as a synonym of type is deprecated; in a future version of numpy, it will be understood as (type, (1,)) / '(1,)type'.\n",
      "  _np_qint32 = np.dtype([(\"qint32\", np.int32, 1)])\n",
      "D:\\adconda\\envs\\tensorflow37\\lib\\site-packages\\tensorboard\\compat\\tensorflow_stub\\dtypes.py:550: FutureWarning: Passing (type, 1) or '1type' as a synonym of type is deprecated; in a future version of numpy, it will be understood as (type, (1,)) / '(1,)type'.\n",
      "  np_resource = np.dtype([(\"resource\", np.ubyte, 1)])\n"
     ]
    }
   ],
   "source": [
    "import statsmodels.api as sm      # 时序分解\n",
    "from sklearn.preprocessing import MinMaxScaler # 数据归一化\n",
    "from numpy import array\n",
    "import numpy as np\n",
    "import pandas as pd \n",
    "import matplotlib.pyplot as plt\n",
    "# 支持中文\n",
    "plt.rcParams['font.sans-serif'] = ['SimHei']  # 用来正常显示中文标签\n",
    "plt.rcParams['axes.unicode_minus'] = False  # 用来正常显示负号\n",
    "\n",
    "import tensorflow as tf\n",
    "\n",
    "import tensorflow.keras as keras\n",
    "from tensorflow.keras import Input, Model\n",
    "from tensorflow.keras.models import Sequential\n",
    "from tensorflow.keras.layers import Dense, SimpleRNN, LSTM, Bidirectional\n",
    "\n",
    "from sklearn.metrics import mean_squared_error\n",
    "from math import sqrt,exp,log\n",
    "from sklearn import metrics,tree # 计算指标\n",
    "import random\n",
    "from algorithm_2 import algorithm_2"
   ]
  },
  {
   "cell_type": "code",
   "execution_count": 2,
   "metadata": {
    "pycharm": {
     "name": "#%%\n"
    }
   },
   "outputs": [],
   "source": [
    "RATE = 0.7     # 训练集，测试集比例(7:3)\n",
    "N_timestamp=24   # 每24个数据（一天）预测下一个（一小时）\n",
    "X_dim = 10        # 六个维度特征：PM2.5 PM10 CO2....\n",
    "Epoch_WL = 10    #弱学习器迭代次数\n",
    "Epoch_SL = 50    #强学习器迭代次数\n",
    "Batch_Size = 64     # 批训练大小  \n",
    "\n",
    "Loss = 'mean_absolute_error'\n",
    "\n",
    "optimizer = keras.optimizers.Adam(0.001)\n"
   ]
  },
  {
   "cell_type": "code",
   "execution_count": 3,
   "metadata": {
    "pycharm": {
     "name": "#%%\n"
    }
   },
   "outputs": [
    {
     "name": "stdout",
     "output_type": "stream",
     "text": [
      "WARNING:tensorflow:From C:\\Users\\Shiina\\AppData\\Local\\Temp\\ipykernel_3724\\2774928115.py:5: The name tf.set_random_seed is deprecated. Please use tf.compat.v1.set_random_seed instead.\n",
      "\n"
     ]
    }
   ],
   "source": [
    "# 设置随机数种子，使结果可复现\n",
    "my_seed = 23\n",
    "np.random.seed(my_seed)\n",
    "random.seed(my_seed)\n",
    "tf.set_random_seed(my_seed)\n"
   ]
  },
  {
   "cell_type": "code",
   "execution_count": 4,
   "metadata": {
    "scrolled": true,
    "pycharm": {
     "name": "#%%\n"
    }
   },
   "outputs": [
    {
     "name": "stdout",
     "output_type": "stream",
     "text": [
      "          No  year  month  day  hour  PM2.5  PM10   SO2   NO2     CO    O3  \\\n",
      "0          1  2013      3    1     0    4.0   4.0   4.0   7.0  300.0  77.0   \n",
      "1          2  2013      3    1     1    8.0   8.0   4.0   7.0  300.0  77.0   \n",
      "2          3  2013      3    1     2    7.0   7.0   5.0  10.0  300.0  73.0   \n",
      "3          4  2013      3    1     3    6.0   6.0  11.0  11.0  300.0  72.0   \n",
      "4          5  2013      3    1     4    3.0   3.0  12.0  12.0  300.0  72.0   \n",
      "...      ...   ...    ...  ...   ...    ...   ...   ...   ...    ...   ...   \n",
      "35059  35060  2017      2   28    19   12.0  29.0   5.0  35.0  400.0  95.0   \n",
      "35060  35061  2017      2   28    20   13.0  37.0   7.0  45.0  500.0  81.0   \n",
      "35061  35062  2017      2   28    21   16.0  37.0  10.0  66.0  700.0  58.0   \n",
      "35062  35063  2017      2   28    22   21.0  44.0  12.0  87.0  700.0  35.0   \n",
      "35063  35064  2017      2   28    23   19.0  31.0  10.0  79.0  600.0  42.0   \n",
      "\n",
      "       TEMP    PRES  DEWP  RAIN   wd  WSPM       station  \n",
      "0      -0.7  1023.0 -18.8   0.0  NNW   4.4  Aotizhongxin  \n",
      "1      -1.1  1023.2 -18.2   0.0    N   4.7  Aotizhongxin  \n",
      "2      -1.1  1023.5 -18.2   0.0  NNW   5.6  Aotizhongxin  \n",
      "3      -1.4  1024.5 -19.4   0.0   NW   3.1  Aotizhongxin  \n",
      "4      -2.0  1025.2 -19.5   0.0    N   2.0  Aotizhongxin  \n",
      "...     ...     ...   ...   ...  ...   ...           ...  \n",
      "35059  12.5  1013.5 -16.2   0.0   NW   2.4  Aotizhongxin  \n",
      "35060  11.6  1013.6 -15.1   0.0  WNW   0.9  Aotizhongxin  \n",
      "35061  10.8  1014.2 -13.3   0.0   NW   1.1  Aotizhongxin  \n",
      "35062  10.5  1014.4 -12.9   0.0  NNW   1.2  Aotizhongxin  \n",
      "35063   8.6  1014.1 -15.9   0.0  NNE   1.3  Aotizhongxin  \n",
      "\n",
      "[35064 rows x 18 columns]\n"
     ]
    },
    {
     "data": {
      "text/plain": [
       "<AxesSubplot:>"
      ]
     },
     "execution_count": 4,
     "metadata": {},
     "output_type": "execute_result"
    },
    {
     "data": {
      "text/plain": [
       "<Figure size 21600x1440 with 0 Axes>"
      ]
     },
     "metadata": {},
     "output_type": "display_data"
    },
    {
     "data": {
      "image/png": "[encoded data removed]",
      "text/plain": [
       "<Figure size 432x288 with 1 Axes>"
      ]
     },
     "metadata": {
      "needs_background": "light"
     },
     "output_type": "display_data"
    }
   ],
   "source": [
    "# 导入数据 共一列数据, 默认索引\n",
    "#data = pd.read_csv('data_fillna.csv', usecols=['0'], squeeze=True)\n",
    "data = pd.read_csv('PRSA_Data_Aotizhongxin_20130301-20170228.csv')\n",
    "print(data)\n",
    "plt.figure(figsize=(300, 20))\n",
    "data.plot() "
   ]
  },
  {
   "cell_type": "code",
   "execution_count": 5,
   "metadata": {
    "scrolled": true,
    "pycharm": {
     "name": "#%%\n"
    }
   },
   "outputs": [
    {
     "name": "stdout",
     "output_type": "stream",
     "text": [
      "       PM2.5  PM10   SO2   NO2     CO    O3  TEMP    PRES  DEWP  RAIN\n",
      "0        4.0   4.0   4.0   7.0  300.0  77.0  -0.7  1023.0 -18.8   0.0\n",
      "1        8.0   8.0   4.0   7.0  300.0  77.0  -1.1  1023.2 -18.2   0.0\n",
      "2        7.0   7.0   5.0  10.0  300.0  73.0  -1.1  1023.5 -18.2   0.0\n",
      "3        6.0   6.0  11.0  11.0  300.0  72.0  -1.4  1024.5 -19.4   0.0\n",
      "4        3.0   3.0  12.0  12.0  300.0  72.0  -2.0  1025.2 -19.5   0.0\n",
      "...      ...   ...   ...   ...    ...   ...   ...     ...   ...   ...\n",
      "35059   12.0  29.0   5.0  35.0  400.0  95.0  12.5  1013.5 -16.2   0.0\n",
      "35060   13.0  37.0   7.0  45.0  500.0  81.0  11.6  1013.6 -15.1   0.0\n",
      "35061   16.0  37.0  10.0  66.0  700.0  58.0  10.8  1014.2 -13.3   0.0\n",
      "35062   21.0  44.0  12.0  87.0  700.0  35.0  10.5  1014.4 -12.9   0.0\n",
      "35063   19.0  31.0  10.0  79.0  600.0  42.0   8.6  1014.1 -15.9   0.0\n",
      "\n",
      "[35064 rows x 10 columns]\n",
      "[[False False False ... False False False]\n",
      " [False False False ... False False False]\n",
      " [False False False ... False False False]\n",
      " ...\n",
      " [False False False ... False False False]\n",
      " [False False False ... False False False]\n",
      " [False False False ... False False False]]\n",
      "0\n",
      "[[   4.     4.     4.  ... 1023.   -18.8    0. ]\n",
      " [   8.     8.     4.  ... 1023.2  -18.2    0. ]\n",
      " [   7.     7.     5.  ... 1023.5  -18.2    0. ]\n",
      " ...\n",
      " [  16.    37.    10.  ... 1014.2  -13.3    0. ]\n",
      " [  21.    44.    12.  ... 1014.4  -12.9    0. ]\n",
      " [  19.    31.    10.  ... 1014.1  -15.9    0. ]]\n"
     ]
    }
   ],
   "source": [
    "#引用数据\n",
    "len(data)\n",
    "df = pd.DataFrame(data, columns=[\"PM2.5\", \"PM10\", \"SO2\", \"NO2\", \"CO\", \"O3\", \"TEMP\", \"PRES\", \"DEWP\", \"RAIN\"])\n",
    "print(df)\n",
    "data = np.array(df)\n",
    "\n",
    "# 空值处理\n",
    "for i in range(len(data)):\n",
    "    for j in range(len(data[i])):\n",
    "        if np.isnan(data[i, j]):\n",
    "            data[i, j] = data[i - 1, j]\n",
    "\n",
    "print(np.isnan(data))\n",
    "print(np.isnan(data).sum())\n",
    "print(data)\n"
   ]
  },
  {
   "cell_type": "code",
   "execution_count": 6,
   "metadata": {
    "scrolled": true,
    "pycharm": {
     "name": "#%%\n"
    }
   },
   "outputs": [
    {
     "name": "stdout",
     "output_type": "stream",
     "text": [
      "[array([[   4. ,    4. ,    4. , ..., 1023. ,  -18.8,    0. ],\n",
      "       [   8. ,    8. ,    4. , ..., 1023.2,  -18.2,    0. ],\n",
      "       [   7. ,    7. ,    5. , ..., 1023.5,  -18.2,    0. ],\n",
      "       ...,\n",
      "       [  20. ,   49. ,    9. , ...,  995.5,   19.2,    0. ],\n",
      "       [  22. ,   70. ,   10. , ...,  995.5,   19.1,    0. ],\n",
      "       [  22. ,   70. ,    8. , ...,  995.6,   20.1,    0. ]]), array([[  17. ,   40. ,    8. , ...,  995.4,   19.4,    0. ],\n",
      "       [  18. ,   52. ,    5. , ...,  995.3,   19.1,    0. ],\n",
      "       [  21. ,   49. ,    6. , ...,  996.1,   18.4,    0. ],\n",
      "       ...,\n",
      "       [  11. ,    7. ,   14. , ..., 1030.4,  -17.7,    0. ],\n",
      "       [   9. ,    6. ,   12. , ..., 1030.2,  -17.8,    0. ],\n",
      "       [  11. ,   10. ,    9. , ..., 1029.8,  -17.2,    0. ]]), array([[  11. ,   10. ,    9. , ..., 1029.4,  -16.7,    0. ],\n",
      "       [  10. ,    6. ,   16. , ..., 1029.2,  -16.9,    0. ],\n",
      "       [  12. ,    8. ,   19. , ..., 1029. ,  -17.7,    0. ],\n",
      "       ...,\n",
      "       [  43. ,  102. ,   14. , ...,  994.8,   11.6,    0. ],\n",
      "       [  42. ,  113. ,   13. , ...,  995. ,   12.5,    0. ],\n",
      "       [  48. ,  134. ,   11. , ...,  995.7,   12.6,    0. ]]), array([[  61. ,  165. ,   10. , ...,  995.9,   12.1,    0. ],\n",
      "       [  85. ,  188. ,    9. , ...,  996. ,   12.3,    0. ],\n",
      "       [  80. ,  169. ,   13. , ...,  995.8,   12.1,    0. ],\n",
      "       ...,\n",
      "       [  20. ,   20. ,    3. , ..., 1021.3,    5.2,    0. ],\n",
      "       [  16. ,   16. ,    2. , ..., 1021.5,    5.8,    0. ],\n",
      "       [  18. ,   29. ,    2. , ..., 1021.6,    7.5,    0. ]]), array([[  17. ,   36. ,    2. , ..., 1021.8,    5.6,    0. ],\n",
      "       [  19. ,   52. ,    2. , ..., 1021.4,    6.3,    0. ],\n",
      "       [  24. ,   56. ,    2. , ..., 1020.3,    4.3,    0. ],\n",
      "       ...,\n",
      "       [  37. ,   90. ,   11. , ..., 1018.5,  -13.2,    0. ],\n",
      "       [  44. ,  121. ,   14. , ..., 1018.6,  -10.6,    0. ],\n",
      "       [  53. ,  132. ,   15. , ..., 1018.8,  -12.7,    0. ]]), array([[  38. ,   93. ,   12. , ..., 1018.5,  -14.2,    0. ],\n",
      "       [  29. ,   84. ,   12. , ..., 1017.8,  -14. ,    0. ],\n",
      "       [  31. ,   58. ,   10. , ..., 1016.7,  -15.1,    0. ],\n",
      "       ...,\n",
      "       [  75. ,   93. ,    6. , ...,  997.6,   20.3,    0. ],\n",
      "       [  92. ,  113. ,    7. , ...,  997.4,   20.7,    0. ],\n",
      "       [ 111. ,  111. ,    8. , ...,  996.9,   21.1,    0. ]]), array([[ 127. ,  127. ,    7. , ...,  996.8,   20.6,    0. ],\n",
      "       [ 117. ,  117. ,    7. , ...,  996.2,   19.9,    0. ],\n",
      "       [  85. ,   85. ,    7. , ...,  995.7,   19.9,    0. ],\n",
      "       ...,\n",
      "       [  54. ,   81. ,   23. , ..., 1030.6,  -11.1,    0. ],\n",
      "       [  30. ,   43. ,   15. , ..., 1030.1,  -11. ,    0. ],\n",
      "       [  23. ,   30. ,   13. , ..., 1029.7,  -10.7,    0. ]]), array([[  26. ,   36. ,   13. , ..., 1029.4,  -10.7,    0. ],\n",
      "       [  28. ,   39. ,   12. , ..., 1029.4,  -10.6,    0. ],\n",
      "       [  24. ,   34. ,   10. , ..., 1030. ,  -10.6,    0. ],\n",
      "       ...,\n",
      "       [  21. ,   21. ,    2. , ..., 1010. ,   -1.1,    0. ],\n",
      "       [   7. ,   16. ,    2. , ..., 1010.2,    0. ,    0. ],\n",
      "       [   9. ,   39. ,    2. , ..., 1009.7,   -1.2,    0. ]]), array([[   5. ,    5. ,    2. , ..., 1010. ,   -4.2,    0. ],\n",
      "       [  17. ,   17. ,    2. , ..., 1010.4,   -3.9,    0. ],\n",
      "       [  10. ,   16. ,    3. , ..., 1010.9,   -5.6,    0. ],\n",
      "       ...,\n",
      "       [  66. ,   66. ,    2. , ..., 1013.1,   13.2,    0. ],\n",
      "       [  61. ,   66. ,    2. , ..., 1013.1,   13. ,    0. ],\n",
      "       [  63. ,   75. ,    2. , ..., 1013.7,   13.3,    0. ]]), array([[  64. ,   76. ,    2. , ..., 1014.3,   13.9,    0. ],\n",
      "       [  73. ,   87. ,    2. , ..., 1014.9,   14.5,    0. ],\n",
      "       [  85. ,  108. ,    2. , ..., 1015.7,   14.8,    0. ],\n",
      "       ...,\n",
      "       [  16. ,   37. ,   10. , ..., 1014.2,  -13.3,    0. ],\n",
      "       [  21. ,   44. ,   12. , ..., 1014.4,  -12.9,    0. ],\n",
      "       [  19. ,   31. ,   10. , ..., 1014.1,  -15.9,    0. ]])]\n",
      "3506\n",
      "10\n"
     ]
    }
   ],
   "source": [
    "# 数据集分组\n",
    "datas = []\n",
    "\n",
    "#分组个数\n",
    "num_data_set = 10\n",
    "\n",
    "\n",
    "length = int(len(data)/num_data_set)\n",
    "for i in range(num_data_set - 1):\n",
    "    datas.append(data[i*length:(i+1)*length])\n",
    "datas.append(data[(num_data_set - 1)*length:])\n",
    "\n",
    "print(datas)\n",
    "print(np.shape(datas[0])[0])\n",
    "print(np.shape(datas[0])[1])\n"
   ]
  },
  {
   "cell_type": "code",
   "execution_count": 7,
   "metadata": {
    "scrolled": false,
    "pycharm": {
     "name": "#%%\n"
    }
   },
   "outputs": [],
   "source": [
    "data = datas[0]\n",
    " "
   ]
  },
  {
   "cell_type": "code",
   "execution_count": 8,
   "metadata": {
    "pycharm": {
     "name": "#%%\n"
    }
   },
   "outputs": [],
   "source": [
    "train_set = data[:int(len(data)*RATE),:] \n",
    "test_set = data[int(len(data)*RATE):,:]\n",
    "predict_al2 = algorithm_2(train_old, train_new, label_old, label_new, S_test, weak_learner, N,predict)"
   ]
  },
  {
   "cell_type": "code",
   "execution_count": 9,
   "metadata": {
    "pycharm": {
     "name": "#%%\n"
    }
   },
   "outputs": [],
   "source": [
    "def data_split(sequence, n_timestamp):   # \n",
    "    # 取前 n_timestamp 天的数据为 X；n_timestamp+1天数据为 Y。\n",
    "    X = []\n",
    "    y = []\n",
    "\n",
    "    for i in range(len(sequence)):\n",
    "        end_ix = i + n_timestamp\n",
    "\n",
    "        if end_ix > len(sequence) - 1:\n",
    "            break\n",
    "\n",
    "        seq_x, seq_y = sequence[i:end_ix], sequence[end_ix,0]\n",
    "        X.append(seq_x)\n",
    "        y.append(seq_y)\n",
    "    return array(X), array(y)"
   ]
  },
  {
   "cell_type": "code",
   "execution_count": 10,
   "metadata": {
    "pycharm": {
     "name": "#%%\n"
    }
   },
   "outputs": [],
   "source": [
    "#数据归一化处理\n",
    "\n",
    "sc  = MinMaxScaler(feature_range=(0, 1))\n",
    "train_set_scaled = sc.fit_transform(train_set)\n",
    "test_set_scaled  = sc.transform(test_set) \n",
    "#print(train_set_scaled)\n",
    "#print(test_set_scaled)\n",
    "\n",
    "#训练集输入输出\n",
    "X_train, y_train = data_split(train_set_scaled,N_timestamp)\n",
    "X_train = X_train.reshape(X_train.shape[0], X_train.shape[1], X_dim)\n",
    "X_test, y_test = data_split(test_set_scaled,N_timestamp)\n",
    "X_test = X_test.reshape(X_test.shape[0], X_test.shape[1], X_dim)\n"
   ]
  },
  {
   "cell_type": "code",
   "execution_count": 14,
   "metadata": {
    "scrolled": true,
    "pycharm": {
     "name": "#%%\n"
    }
   },
   "outputs": [
    {
     "name": "stdout",
     "output_type": "stream",
     "text": [
      "2430\n"
     ]
    }
   ],
   "source": [
    "#sample \n",
    "print(X_train.shape[0])"
   ]
  },
  {
   "cell_type": "code",
   "execution_count": 11,
   "metadata": {
    "pycharm": {
     "name": "#%%\n"
    }
   },
   "outputs": [],
   "source": [
    "# 画图 Loss, result\n",
    "def plot_loss(history):\n",
    "    plt.plot(history.history['loss']    , label='Training Loss')\n",
    "    plt.plot(history.history['val_loss'], label='Validation Loss')\n",
    "    plt.title('Training and Validation Loss')\n",
    "    plt.legend()\n",
    "    plt.show()\n",
    "    \n",
    "def plot_load(model, X_test, y_test, scaler=None, figsize=(60,10)):\n",
    "    predicted_load = model.predict(X_test)                        # 测试集输入模型进行预测\n",
    "    if scaler:\n",
    "        predicted_load = scaler.inverse_transform(predicted_load)  # 对预测数据还原---从（0，1）反归一化到原始范围\n",
    "        real_load      = scaler.inverse_transform(y_test)# 对真实数据还原---从（0，1）反归一化到原始范围\n",
    "    else:\n",
    "        real_load = y_test\n",
    "\n",
    "    plt.figure(figsize=figsize)\n",
    "    # 画出真实数据和预测数据的对比曲线\n",
    "    plt.plot(real_load, color='red', label='Load')\n",
    "    plt.plot(predicted_load, color='blue', label='Predicted Load')\n",
    "    plt.title('R N N')\n",
    "    plt.xlabel('Time')\n",
    "    plt.ylabel('load')\n",
    "    plt.legend()\n",
    "    plt.show()\n",
    "\n",
    "    MSE   = metrics.mean_squared_error(real_load, predicted_load)\n",
    "    RMSE  = metrics.mean_squared_error(real_load, predicted_load)**0.5\n",
    "    MAE   = metrics.mean_absolute_error(real_load, predicted_load)\n",
    "    R2    = metrics.r2_score(real_load, predicted_load)\n",
    "    EV    = metrics.explained_variance_score(real_load,predicted_load)   #新添加EV\n",
    "\n",
    "    print(\"EV\", EV)\n",
    "    print(\"MSE:\", MSE)\n",
    "    print(\"RMSE:\", RMSE)\n",
    "    print(\"MAE:\", MAE)\n",
    "    print(\"R2:\", R2)\n",
    "    \n",
    "    return real_load, predicted_load"
   ]
  },
  {
   "cell_type": "code",
   "execution_count": 12,
   "metadata": {
    "scrolled": true,
    "pycharm": {
     "name": "#%%\n"
    }
   },
   "outputs": [
    {
     "name": "stdout",
     "output_type": "stream",
     "text": [
      "WARNING:tensorflow:From D:\\adconda\\envs\\tensorflow37\\lib\\site-packages\\tensorflow\\python\\ops\\init_ops.py:1251: calling VarianceScaling.__init__ (from tensorflow.python.ops.init_ops) with dtype is deprecated and will be removed in a future version.\n",
      "Instructions for updating:\n",
      "Call initializer instance with the dtype argument instead of passing it to the constructor\n",
      "WARNING:tensorflow:From D:\\adconda\\envs\\tensorflow37\\lib\\site-packages\\tensorflow\\python\\ops\\init_ops.py:97: calling GlorotUniform.__init__ (from tensorflow.python.ops.init_ops) with dtype is deprecated and will be removed in a future version.\n",
      "Instructions for updating:\n",
      "Call initializer instance with the dtype argument instead of passing it to the constructor\n",
      "WARNING:tensorflow:From D:\\adconda\\envs\\tensorflow37\\lib\\site-packages\\tensorflow\\python\\ops\\init_ops.py:97: calling Orthogonal.__init__ (from tensorflow.python.ops.init_ops) with dtype is deprecated and will be removed in a future version.\n",
      "Instructions for updating:\n",
      "Call initializer instance with the dtype argument instead of passing it to the constructor\n",
      "WARNING:tensorflow:From D:\\adconda\\envs\\tensorflow37\\lib\\site-packages\\tensorflow\\python\\ops\\init_ops.py:97: calling Zeros.__init__ (from tensorflow.python.ops.init_ops) with dtype is deprecated and will be removed in a future version.\n",
      "Instructions for updating:\n",
      "Call initializer instance with the dtype argument instead of passing it to the constructor\n",
      "Model: \"model\"\n",
      "_________________________________________________________________\n",
      "Layer (type)                 Output Shape              Param #   \n",
      "=================================================================\n",
      "inputs (InputLayer)          [(None, 24, 10)]          0         \n",
      "_________________________________________________________________\n",
      "bidirectional (Bidirectional (None, 24, 100)           24400     \n",
      "_________________________________________________________________\n",
      "bidirectional_1 (Bidirection (None, 100)               60400     \n",
      "_________________________________________________________________\n",
      "dense (Dense)                (None, 50)                5050      \n",
      "_________________________________________________________________\n",
      "dense_1 (Dense)              (None, 1)                 51        \n",
      "=================================================================\n",
      "Total params: 89,901\n",
      "Trainable params: 89,901\n",
      "Non-trainable params: 0\n",
      "_________________________________________________________________\n",
      "None\n"
     ]
    }
   ],
   "source": [
    "# 构建神经网络模型LSTM\n",
    "# 输入层\n",
    "inputs = Input((N_timestamp, X_dim), name='inputs')\n",
    "\n",
    "# LSTM \n",
    "# 全连接层\n",
    "#LSTM_1 = LSTM(units=100, activation='relu', dropout=0.1)(inputs)\n",
    "#dense_2 = Dense(units=50, activation='relu')(LSTM_1)\n",
    "\n",
    "\n",
    "# 双向 LSTM\n",
    "Bi_LSTM_1 = Bidirectional(LSTM(units = 50, activation='relu',return_sequences= True, dropout = 0.1))(inputs)\n",
    "Bi_LSTM_2 = Bidirectional(LSTM(units = 50, activation='relu', dropout = 0.1))(Bi_LSTM_1)\n",
    "dense_1 = Dense(units=50, activation='relu')(Bi_LSTM_2)\n",
    "output = Dense(units=1, activation='relu')(dense_1)\n",
    "\n",
    "\n",
    "# 构造一个新模型\n",
    "model_1 = Model(inputs=inputs, outputs= output)\n",
    "print(model_1.summary())\n",
    "# # 编译\n",
    "model_1.compile(optimizer=optimizer, loss=Loss)"
   ]
  },
  {
   "cell_type": "code",
   "execution_count": 13,
   "metadata": {
    "scrolled": true,
    "pycharm": {
     "name": "#%%\n"
    }
   },
   "outputs": [
    {
     "name": "stdout",
     "output_type": "stream",
     "text": [
      "Train on 1944 samples, validate on 486 samples\n",
      "WARNING:tensorflow:From D:\\adconda\\envs\\tensorflow37\\lib\\site-packages\\tensorflow\\python\\ops\\math_grad.py:1250: add_dispatch_support.<locals>.wrapper (from tensorflow.python.ops.array_ops) is deprecated and will be removed in a future version.\n",
      "Instructions for updating:\n",
      "Use tf.where in 2.0, which has the same broadcast rule as np.where\n",
      "Epoch 1/10\n",
      "1944/1944 [==============================] - 3s 2ms/sample - loss: 0.0701 - val_loss: 0.0441\n",
      "Epoch 2/10\n",
      "1944/1944 [==============================] - 1s 386us/sample - loss: 0.0477 - val_loss: 0.0458\n",
      "Epoch 3/10\n",
      "1944/1944 [==============================] - 1s 391us/sample - loss: 0.0444 - val_loss: 0.0386\n",
      "Epoch 4/10\n",
      "1944/1944 [==============================] - 1s 386us/sample - loss: 0.0404 - val_loss: 0.0330\n",
      "Epoch 5/10\n",
      "1944/1944 [==============================] - 1s 405us/sample - loss: 0.0378 - val_loss: 0.0286\n",
      "Epoch 6/10\n",
      "1944/1944 [==============================] - 1s 386us/sample - loss: 0.0364 - val_loss: 0.0430\n",
      "Epoch 7/10\n",
      "1944/1944 [==============================] - 1s 405us/sample - loss: 0.0365 - val_loss: 0.0274\n",
      "Epoch 8/10\n",
      "1944/1944 [==============================] - 1s 391us/sample - loss: 0.0335 - val_loss: 0.0254\n",
      "Epoch 9/10\n",
      "1944/1944 [==============================] - 1s 418us/sample - loss: 0.0321 - val_loss: 0.0271\n",
      "Epoch 10/10\n",
      "1944/1944 [==============================] - 1s 402us/sample - loss: 0.0316 - val_loss: 0.0273\n"
     ]
    }
   ],
   "source": [
    "history_1 = model_1.fit(X_train,\n",
    "                        y_train,\n",
    "                        epochs = Epoch_WL, batch_size = Batch_Size, validation_split = 0.2)#"
   ]
  },
  {
   "cell_type": "code",
   "execution_count": null,
   "metadata": {
    "pycharm": {
     "name": "#%%\n"
    }
   },
   "outputs": [],
   "source": [
    "#模型保存\n"
   ]
  },
  {
   "cell_type": "code",
   "execution_count": 28,
   "metadata": {
    "pycharm": {
     "name": "#%%\n"
    }
   },
   "outputs": [
    {
     "ename": "NameError",
     "evalue": "name 'model_1' is not defined",
     "output_type": "error",
     "traceback": [
      "\u001B[1;31m---------------------------------------------------------------------------\u001B[0m",
      "\u001B[1;31mNameError\u001B[0m                                 Traceback (most recent call last)",
      "\u001B[1;32m~\\AppData\\Local\\Temp\\ipykernel_24876\\3658042953.py\u001B[0m in \u001B[0;36m<module>\u001B[1;34m\u001B[0m\n\u001B[1;32m----> 1\u001B[1;33m history_2 = model_1.fit(X_train,\n\u001B[0m\u001B[0;32m      2\u001B[0m                         \u001B[0my_train\u001B[0m\u001B[1;33m,\u001B[0m\u001B[1;33m\u001B[0m\u001B[1;33m\u001B[0m\u001B[0m\n\u001B[0;32m      3\u001B[0m                         epochs = Epoch_WL, batch_size = Batch_Size, validation_split = 0.2)#\n",
      "\u001B[1;31mNameError\u001B[0m: name 'model_1' is not defined"
     ]
    }
   ],
   "source": [
    "history_2 = model_1.fit(X_train,\n",
    "                        y_train,\n",
    "                        epochs = Epoch_WL, batch_size = Batch_Size, validation_split = 0.2)#"
   ]
  },
  {
   "cell_type": "code",
   "execution_count": 1,
   "metadata": {
    "scrolled": false,
    "pycharm": {
     "name": "#%%\n"
    }
   },
   "outputs": [
    {
     "ename": "NameError",
     "evalue": "name 'plot_loss' is not defined",
     "output_type": "error",
     "traceback": [
      "\u001B[1;31m---------------------------------------------------------------------------\u001B[0m",
      "\u001B[1;31mNameError\u001B[0m                                 Traceback (most recent call last)",
      "\u001B[1;32m~\\AppData\\Local\\Temp\\ipykernel_24876\\1622365774.py\u001B[0m in \u001B[0;36m<module>\u001B[1;34m\u001B[0m\n\u001B[1;32m----> 1\u001B[1;33m \u001B[0mplot_loss\u001B[0m\u001B[1;33m(\u001B[0m\u001B[0mhistory_1\u001B[0m\u001B[1;33m)\u001B[0m\u001B[1;33m\u001B[0m\u001B[1;33m\u001B[0m\u001B[0m\n\u001B[0m",
      "\u001B[1;31mNameError\u001B[0m: name 'plot_loss' is not defined"
     ]
    }
   ],
   "source": [
    "plot_loss(history_1)"
   ]
  },
  {
   "cell_type": "code",
   "execution_count": 27,
   "metadata": {
    "scrolled": false,
    "pycharm": {
     "name": "#%%\n"
    }
   },
   "outputs": [],
   "source": [
    "#保存模型\n",
    "model_save_path = \"model_file_path.h5\""
   ]
  },
  {
   "cell_type": "code",
   "execution_count": null,
   "metadata": {
    "pycharm": {
     "name": "#%%\n"
    }
   },
   "outputs": [],
   "source": [
    "history_1.shape"
   ]
  },
  {
   "cell_type": "code",
   "execution_count": null,
   "metadata": {
    "pycharm": {
     "name": "#%%\n"
    }
   },
   "outputs": [],
   "source": [
    "#算法一\n",
    "#predicted表示n个弱学习器对数据集第n+1的预测结果\n",
    "#y_test表示第n+1个数据集的实际值\n",
    "def algorithm_1(predicted,y_test): \n",
    "    #样本大小\n",
    "    sample_size = y_test.shape[0]\n",
    "    #初始化新数据集中的样本权重\n",
    "    w = np.zeros([sample_size])\n",
    "    w[:] = 1 / sample_size\n",
    "    #初始化a_k\n",
    "    a_k_all = []\n",
    "    #初始化a_k_final\n",
    "    a_k_final = []\n",
    "    \n",
    "    #对每一个弱学习器使用新数据集作为输入来输出预测\n",
    "    for i in range(len(predicted)):\n",
    "        E_k_max = 0\n",
    "        E_k = np.zeros(sample_size)\n",
    "        e_k = np.zeros(sample_size)\n",
    "        \n",
    "        \n",
    "        for j in range(sample_size):\n",
    "        #计算最大误差率数据集\n",
    "            E_k[j] = abs(y_test[j,0] - predicted[i][j,0])\n",
    "            \n",
    "        E_k_max = np.max(E_k)\n",
    "         #计算相关误差   \n",
    "        for j in range(sample_size):\n",
    "            e_k[j] = 1 - exp(abs(y_test[j,0] - predicted[i][j,0]))\n",
    "            \n",
    "        #计算回归误差\n",
    "        regression_error_rate = np.sum(w * e_k)\n",
    "        #计算标准误差率\n",
    "        beta_k = regression_error_rate / ( 1 - regression_error_rate)\n",
    "        \n",
    "        #计算弱学习器比率\n",
    "        a_k = 1/2 * log(1 / beta_k)\n",
    "        a_k_all.append(a_k)\n",
    "        #计算每个弱学习器的最终比率\n",
    "    for a_k in a_k_all:\n",
    "        a_k_final.append(a_k / np.sum(a_k_all))\n",
    "        \n",
    "    return a_k_final\n",
    "\n",
    "#算法一使用时须在外部调用保存的模型，使用函数返回的a_k_final列表生成强学习器\n",
    "\n",
    "    \n",
    "       "
   ]
  },
  {
   "cell_type": "code",
   "execution_count": null,
   "metadata": {
    "pycharm": {
     "name": "#%%\n"
    }
   },
   "outputs": [],
   "source": [
    "# -*- coding: utf-8 -*-\n",
    "\"\"\"\n",
    "@Copyright (C) 2022 mewhaku . All Rights Reserved\n",
    "@Time ： 2022/8/8 11:19\n",
    "@Author ： mewhaku\n",
    "@File ：vfkmm.py\n",
    "@IDE ：PyCharm\n",
    "\"\"\"\n",
    "import numpy as np\n",
    "from sklearn import tree\n",
    "\n",
    "\n",
    "# 算法二\n",
    "# H 测试样本分类结果\n",
    "# train_old 原训练样本 np数组\n",
    "# train_new 辅助训练样本\n",
    "# label_old 原训练样本标签\n",
    "# label_new 辅助训练样本标签\n",
    "# 使用老数据集训练的弱学习器weak_learner\n",
    "# S_Test  测试样本\n",
    "# N 迭代次数\n",
    "def algorithm_2(train_old, train_new, label_old, label_new, S_test, weak_learner, N):\n",
    "    train_data = np.concatenate((train_new, train_old), axis=0)\n",
    "    train_label = np.concatenate((label_new, label_old), axis=0)\n",
    "\n",
    "    # 赋值训练集的行数\n",
    "    row_new = train_new.shape[0]\n",
    "    row_old = train_old.shape[0]\n",
    "    row_T = S_test.shape[0]\n",
    "\n",
    "    test_data = np.concatenate((train_data, S_test), axis=0)\n",
    "\n",
    "    # 初始化权重\n",
    "    #缺少veryfastKMM\n",
    "    #合并数据集train_old U train_new\n",
    "    beta = train_new.shape[0]\n",
    "    max_beta = train_old.shape[0]\n",
    "    # beta 和 max_beta由veryfastKMM得到\n",
    "    weight_1 = beta\n",
    "    weight_2 = np.max(beta)\n",
    "    weights = np.concatenate((weight_1, weight_2), axis=0)\n",
    "\n",
    "    # 设置rho值 #\n",
    "    rho = 1 / (1 + np.sqrt(2 * np.log(row_new / N)))\n",
    "\n",
    "    # 存储每次迭代的标签和bata值\n",
    "    bata_T = np.zeros([1, N])\n",
    "    result_label = np.ones([row_new + row_old + row_T, N])\n",
    "\n",
    "    predict = np.zeros([row_T])\n",
    "\n",
    "    print('params initial finished.')\n",
    "    train_data = np.asarray(train_data, order='C')\n",
    "    train_label = np.asarray(train_label, order='C')\n",
    "    test_data = np.asarray(test_data, order='C')\n",
    "\n",
    "    for i in range(N):\n",
    "        P = calculate_P(weights, train_label)\n",
    "\n",
    "        result_label[:, i] = train_classify(train_data, train_label,\n",
    "                                            test_data, P)\n",
    "        print('result,', result_label[:, i], row_new, row_old, i, result_label.shape)\n",
    "\n",
    "        error_rate = calculate_error_rate(label_old, result_label[row_new:row_new + row_old, i],\n",
    "                                          weights[row_new:row_new + row_old, :])\n",
    "        print('Error rate:', error_rate)\n",
    "        \n",
    "        if error_rate > 0.5:\n",
    "            error_rate = 0.5\n",
    "        if error_rate == 0:\n",
    "            N = i\n",
    "            break  # 防止过拟合\n",
    "            # error_rate = 0.001\n",
    "        \n",
    "        #计算bete_t\n",
    "        bata_T[0, i] = error_rate / (1 - error_rate)\n",
    "        \n",
    "        #权重更新\n",
    "        # 调整源域样本权重\n",
    "        for j in range(row_old):\n",
    "            weights[row_new + j] = weights[row_new + j] * np.power(bata_T[0, i],\n",
    "                                                               (-np.abs(result_label[row_new + j, i] - label_old[j])))\n",
    "\n",
    "        # 调整辅域样本权重\n",
    "        for j in range(row_new):\n",
    "            weights[j] = weights[j] * np.power(rho, np.abs(result_label[j, i] - label_new[j]))\n",
    "    # print bata_T\n",
    "    for i in range(row_T):\n",
    "        # 跳过训练数据的标签\n",
    "        left = np.sum(\n",
    "            result_label[row_new + row_old + i, int(np.ceil(N / 2)):N] * np.log(1 / bata_T[0, int(np.ceil(N / 2)):N]))\n",
    "        right = 0.5 * np.sum(np.log(1 / bata_T[0, int(np.ceil(N / 2)):N]))\n",
    "\n",
    "        if left >= right:\n",
    "            predict[i] = 1\n",
    "        else:\n",
    "            predict[i] = 0\n",
    "            # print left, right, predict[i]\n",
    "\n",
    "    return predict\n",
    "\n",
    "#计算p_t\n",
    "def calculate_P(weights, label):\n",
    "    total = np.sum(weights)\n",
    "    return np.asarray(weights / total, order='C')\n",
    "\n",
    "#训练分类器\n",
    "def train_classify(trans_data, trans_label, test_data, P):\n",
    "    clf = tree.DecisionTreeClassifier(criterion=\"gini\", max_features=\"log2\", splitter=\"random\")\n",
    "    clf.fit(trans_data, trans_label, sample_weight=P[:, 0])\n",
    "    return clf.predict(test_data)\n",
    "\n",
    "#输入用旧数据集训练的弱学习器\n",
    "def calculate_error_rate(row_new, y_test, predicted, weight):\n",
    "    E_k_max = 0\n",
    "    E_k = np.zeros(sample_size)\n",
    "    e_k = np.zeros(sample_size)\n",
    "    for j in range(row_new):\n",
    "        E_k[j] = abs(y_test[j,0] - predicted[j,0])\n",
    "            \n",
    "    E_k_max = np.max(E_k)\n",
    "    \n",
    "    for j in range(row_new):\n",
    "        e_i[j] = 1 - exp(abs(y_test[j,0] - predicted[j,0]))\n",
    "    regression_error_rate = np.sum(weight * e_i)\n",
    "    return regression_error_rate\n",
    "\n",
    "\n",
    "    "
   ]
  },
  {
   "cell_type": "code",
   "execution_count": null,
   "metadata": {
    "pycharm": {
     "name": "#%%\n"
    }
   },
   "outputs": [],
   "source": []
  },
  {
   "cell_type": "code",
   "execution_count": null,
   "metadata": {
    "pycharm": {
     "name": "#%%\n"
    }
   },
   "outputs": [],
   "source": []
  }
 ],
 "metadata": {
  "kernelspec": {
   "display_name": "Python (tf37)",
   "language": "python",
   "name": "tensorflow37"
  },
  "language_info": {
   "codemirror_mode": {
    "name": "ipython",
    "version": 3
   },
   "file_extension": ".py",
   "mimetype": "text/x-python",
   "name": "python",
   "nbconvert_exporter": "python",
   "pygments_lexer": "ipython3",
   "version": "3.7.12"
  }
 },
 "nbformat": 4,
 "nbformat_minor": 2
}